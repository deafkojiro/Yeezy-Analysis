{
 "cells": [
  {
   "cell_type": "code",
   "execution_count": 1,
   "metadata": {},
   "outputs": [],
   "source": [
    "import pandas as pd\n",
    "import numpy as np\n",
    "import seaborn as sns\n",
    "import matplotlib.pyplot as plt\n",
    "import matplotlib.ticker as plticker"
    "%matplotlib notebook"
   ]
  },
  {
   "cell_type": "markdown",
   "metadata": {},
   "source": [
    "od = pd.read_csv('..\\data\\Clean_StockX_Data.csv')\n",
    "df = od.copy()\n",
    "df.head()"
   ]
  },
  {
   "cell_type": "code",
   "execution_count": 2,
   "metadata": {},
   "outputs": [],
   "source": [
    "import pandas as pd\n",
    "\n",
    "def read_file(url):\n",
    "\n",
    "    \"\"\"\n",
    "    Takes GitHub url as an argument,\n",
    "    pulls CSV file located @ github URL.\n",
    "\n",
    "    \"\"\"\n",
    "\n",
    "    url = url + \"?raw=true\"\n",
    "    of = pd.read_csv(url)\n",
    "    df = of.copy()\n",
    "    return df\n",
    "\n",
    "\n",
    "# READ FILE FROM GITHUB REPO \n",
    "# CHANGE THE URL TO YOUR DATA LOCATION!\n",
    "url = \"https://github.com/deafkojiro/Yeezy-Analysis/blob/main/data/Clean_StockX_Data.csv\"\n",
    "\n",
    "df= read_file(url)"
   ]
  },
  {
   "cell_type": "code",
   "execution_count": 3,
   "metadata": {},
   "outputs": [],
   "source": [
    "df[\"Brand\"] = pd.Categorical(df[\"Brand\"])\n",
    "df['Brand'] = df['Brand'].cat.codes"
   ]
  },
  {
   "cell_type": "code",
   "execution_count": 4,
   "metadata": {},
   "outputs": [
    {
     "data": {
      "text/plain": [
       "<AxesSubplot:>"
      ]
     },
     "execution_count": 4,
     "metadata": {},
     "output_type": "execute_result"
    },
    {
     "data": {
      "image/png": "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\n",
      "text/plain": [
       "<Figure size 432x288 with 2 Axes>"
      ]
     },
     "metadata": {
      "needs_background": "light"
     },
     "output_type": "display_data"
    }
   ],
   "source": [
    "correlations = df.corr()\n",
    "sns.heatmap(correlations, annot=True)"
   ]
  },
  {
   "cell_type": "code",
   "execution_count": 5,
   "metadata": {},
   "outputs": [
    {
     "data": {
      "image/png": "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\n",
      "text/plain": [
       "<Figure size 432x288 with 1 Axes>"
      ]
     },
     "metadata": {
      "needs_background": "light"
     },
     "output_type": "display_data"
    }
   ],
   "source": [
    "sns.boxplot(x='Brand', y='Sale Price', data=df)\n",
    "plt.show()"
   ]
  },
  {
   "cell_type": "code",
   "execution_count": 6,
   "metadata": {},
   "outputs": [
    {
     "name": "stdout",
     "output_type": "stream",
     "text": [
      "Yeezy avg price: $nan\n",
      "Off-White avg price: $nan\n"
     ]
    }
   ],
   "source": [
    "#Average sale price by brand\n",
    "a = []\n",
    "labels = df[['Brand', 'Sale Price']]\n",
    "brands = ['Yeezy', 'Off-White']\n",
    "for b in brands:\n",
    "    row = labels.loc[labels['Brand'] == str(b)]\n",
    "    a.append(row['Sale Price'].mean())\n",
    "print('Yeezy avg price: $' + str(a[0]))\n",
    "print('Off-White avg price: $' + str(a[1]))"
   ]
  },
  {
   "cell_type": "code",
   "execution_count": 7,
   "metadata": {},
   "outputs": [],
   "source": [
    "X = df.iloc[:, [3,6]].values"
   ]
  },
  {
   "cell_type": "code",
   "execution_count": null,
   "metadata": {},
   "outputs": [],
   "source": [
    "from sklearn.cluster import KMeans\n",
    "wcss = []\n",
    "for i in range(1, 11):\n",
    "    kmeans = KMeans(n_clusters = i, init = 'k-means++', random_state = 42)\n",
    "    kmeans.fit(X)\n",
    "    # inertia method returns wcss for that model\n",
    "    wcss.append(kmeans.inertia_)"
   ]
  },
  {
   "cell_type": "code",
   "execution_count": null,
   "metadata": {},
   "outputs": [],
   "source": [
    "plt.figure(figsize=(10,5))\n",
    "sns.lineplot(range(1, 11), wcss,marker='o',color='red')\n",
    "plt.title('The Elbow Method')\n",
    "plt.xlabel('Number of clusters')\n",
    "plt.ylabel('WCSS')\n",
    "plt.show()"
   ]
  },
  {
   "cell_type": "code",
   "execution_count": null,
   "metadata": {},
   "outputs": [],
   "source": [
    "kmeans = KMeans(n_clusters = 3, init = 'k-means++', random_state = 42)\n",
    "y_kmeans = kmeans.fit_predict(X)"
   ]
  },
  {
   "cell_type": "code",
   "execution_count": null,
   "metadata": {},
   "outputs": [],
   "source": [
    "plt.figure(figsize=(15,7))\n",
    "sns.scatterplot(X[y_kmeans == 0, 0], X[y_kmeans == 0, 1], color = 'yellow', label = 'Cluster 1',s=50)\n",
    "sns.scatterplot(X[y_kmeans == 1, 0], X[y_kmeans == 1, 1], color = 'blue', label = 'Cluster 2',s=50)\n",
    "sns.scatterplot(X[y_kmeans == 2, 0], X[y_kmeans == 2, 1], color = 'green', label = 'Cluster 3',s=50)\n",
    "sns.scatterplot(X[y_kmeans == 3, 0], X[y_kmeans == 3, 1], color = 'grey', label = 'Cluster 4',s=50)\n",
    "sns.scatterplot(X[y_kmeans == 4, 0], X[y_kmeans == 4, 1], color = 'orange', label = 'Cluster 5',s=50)\n",
    "sns.scatterplot(kmeans.cluster_centers_[:, 0], kmeans.cluster_centers_[:, 1], color = 'red', \n",
    "                label = 'Centroids',s=300,marker=',')\n",
    "plt.grid(False)\n",
    "plt.title('Retail vs Sale Price')\n",
    "plt.xlabel('Sale ($)')\n",
    "plt.ylabel('Retail ($)')\n",
    "plt.legend()\n",
    "plt.show()"
   ]
  },
  {
   "cell_type": "code",
   "execution_count": null,
   "metadata": {},
   "outputs": [],
   "source": [
    "sns.set_style('whitegrid')\n",
    "g=sns.lmplot('Sale Price','Shoe Size',data=df, hue='Brand',\n",
    "           palette='coolwarm',size=6,aspect=1,fit_reg=False)\n",
    "legend = g._legend\n",
    "legend.set_title(\"Brand\")\n",
    "for t, l in zip(legend.texts,(\"Off-White\", \"Yeezy\")):\n",
    "    t.set_text(l)"
   ]
  },
  {
   "cell_type": "code",
   "execution_count": null,
   "metadata": {},
   "outputs": [],
   "source": []
  },
  {
   "cell_type": "code",
   "execution_count": null,
   "metadata": {},
   "outputs": [],
   "source": []
  }
 ],
 "metadata": {
  "kernelspec": {
   "display_name": "Python 3",
   "language": "python",
   "name": "python3"
  },
  "language_info": {
   "codemirror_mode": {
    "name": "ipython",
    "version": 3
   },
   "file_extension": ".py",
   "mimetype": "text/x-python",
   "name": "python",
   "nbconvert_exporter": "python",
   "pygments_lexer": "ipython3",
   "version": "3.8.5"
  }
 },
 "nbformat": 4,
 "nbformat_minor": 4
}
